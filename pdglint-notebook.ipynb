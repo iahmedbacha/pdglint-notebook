{
  "cells": [
    {
      "cell_type": "markdown",
      "source": [
        "# Import Dataset"
      ],
      "metadata": {
        "nteract": {
          "transient": {
            "deleting": false
          }
        }
      }
    },
    {
      "cell_type": "code",
      "source": [
        "!wget -r -N -c -np https://physionet.org/files/tappy/1.0.0/\n",
        "from zipfile import ZipFile\n",
        "\n",
        "archived_data = './physionet.org/files/tappy/1.0.0/Archived-Data.zip'\n",
        "archievd_users = './physionet.org/files/tappy/1.0.0/Archived-Users.zip'\n",
        "\n",
        "with ZipFile(archived_data, 'r') as zip:\n",
        "    zip.extractall()\n",
        "with ZipFile(archievd_users, 'r') as zip:\n",
        "    zip.extractall()"
      ],
      "outputs": [],
      "execution_count": null,
      "metadata": {
        "collapsed": true,
        "jupyter": {
          "source_hidden": false,
          "outputs_hidden": false
        },
        "nteract": {
          "transient": {
            "deleting": false
          }
        },
        "gather": {
          "logged": 1611264095468
        }
      }
    },
    {
      "cell_type": "markdown",
      "source": [
        "# Import packages"
      ],
      "metadata": {
        "nteract": {
          "transient": {
            "deleting": false
          }
        }
      }
    },
    {
      "cell_type": "code",
      "source": [
        "import os\n",
        "import re\n",
        "import numpy as np\n",
        "import pandas as pd\n",
        "from functools import partial\n",
        "from pandas.io.common import EmptyDataError\n",
        "from scipy.stats import skew, kurtosis\n",
        "from zipfile import ZipFile"
      ],
      "outputs": [],
      "execution_count": null,
      "metadata": {
        "collapsed": true,
        "jupyter": {
          "source_hidden": false,
          "outputs_hidden": false
        },
        "nteract": {
          "transient": {
            "deleting": false
          }
        },
        "gather": {
          "logged": 1611264095922
        }
      }
    },
    {
      "cell_type": "markdown",
      "source": [
        "# Read data"
      ],
      "metadata": {
        "nteract": {
          "transient": {
            "deleting": false
          }
        }
      }
    },
    {
      "cell_type": "markdown",
      "source": [
        "## Read users"
      ],
      "metadata": {
        "nteract": {
          "transient": {
            "deleting": false
          }
        }
      }
    },
    {
      "cell_type": "markdown",
      "source": [
        "### Get users files list"
      ],
      "metadata": {
        "nteract": {
          "transient": {
            "deleting": false
          }
        }
      }
    },
    {
      "cell_type": "code",
      "source": [
        "user_root = \"./Archived users/\"\n",
        "user_fn_list = os.listdir(user_root)"
      ],
      "outputs": [],
      "execution_count": null,
      "metadata": {
        "collapsed": true,
        "jupyter": {
          "source_hidden": false,
          "outputs_hidden": false
        },
        "nteract": {
          "transient": {
            "deleting": false
          }
        },
        "gather": {
          "logged": 1611264128354
        }
      }
    },
    {
      "cell_type": "markdown",
      "source": [
        "### Read users files"
      ],
      "metadata": {
        "nteract": {
          "transient": {
            "deleting": false
          }
        }
      }
    },
    {
      "cell_type": "code",
      "source": [
        "def read_one_file(fn, root):\n",
        "    out = dict()\n",
        "    with open(root + fn) as f:\n",
        "        for line in f.readlines():\n",
        "            k, v = line.split(\": \")\n",
        "            out[k] = v.strip()\n",
        "            out['ID'] = re.findall(r'_(\\w+)\\.', fn)[0]\n",
        "    return out"
      ],
      "outputs": [],
      "execution_count": null,
      "metadata": {
        "collapsed": true,
        "jupyter": {
          "source_hidden": false,
          "outputs_hidden": false
        },
        "nteract": {
          "transient": {
            "deleting": false
          }
        },
        "gather": {
          "logged": 1611264134444
        }
      }
    },
    {
      "cell_type": "code",
      "source": [
        "users_list = list(map(partial(read_one_file, root=user_root), user_fn_list))"
      ],
      "outputs": [],
      "execution_count": null,
      "metadata": {
        "collapsed": true,
        "jupyter": {
          "source_hidden": false,
          "outputs_hidden": false
        },
        "nteract": {
          "transient": {
            "deleting": false
          }
        },
        "gather": {
          "logged": 1611264158485
        }
      }
    },
    {
      "cell_type": "code",
      "source": [
        "users = pd.DataFrame(users_list)\n",
        "users.replace('------', np.nan, inplace=True)\n",
        "users.replace('', np.nan, inplace=True)\n",
        "users['Levadopa'] = users['Levadopa'] == 'True'\n",
        "users['MAOB'] = users['MAOB'] == 'True'\n",
        "users['Parkinsons'] = users['Parkinsons'] == 'True'\n",
        "users['Tremors'] = users['Tremors'] == 'True'\n",
        "users['Other'] = users['Other'] == 'True'"
      ],
      "outputs": [],
      "execution_count": null,
      "metadata": {
        "collapsed": true,
        "jupyter": {
          "source_hidden": false,
          "outputs_hidden": false
        },
        "nteract": {
          "transient": {
            "deleting": false
          }
        },
        "gather": {
          "logged": 1611264176417
        }
      }
    },
    {
      "cell_type": "markdown",
      "source": [
        "## Read keys"
      ],
      "metadata": {
        "nteract": {
          "transient": {
            "deleting": false
          }
        }
      }
    },
    {
      "cell_type": "markdown",
      "source": [
        "### Get keys files list"
      ],
      "metadata": {
        "nteract": {
          "transient": {
            "deleting": false
          }
        }
      }
    },
    {
      "cell_type": "code",
      "source": [
        "keys_root = \"./Tappy Data/\"\n",
        "keys_fn_list = os.listdir(keys_root)"
      ],
      "outputs": [],
      "execution_count": null,
      "metadata": {
        "collapsed": true,
        "jupyter": {
          "source_hidden": false,
          "outputs_hidden": false
        },
        "nteract": {
          "transient": {
            "deleting": false
          }
        },
        "gather": {
          "logged": 1611264392554
        }
      }
    },
    {
      "cell_type": "markdown",
      "source": [
        "### Read keys files"
      ],
      "metadata": {
        "nteract": {
          "transient": {
            "deleting": false
          }
        }
      }
    },
    {
      "cell_type": "code",
      "source": [
        "def read_one_key_file(fn, root):\n",
        "    try:\n",
        "        df = pd.read_csv(root + fn, delimiter='\\t', header=None, error_bad_lines=False,\n",
        "                         usecols=range(8), low_memory=False,\n",
        "                        dtype={0:'str', 1:'str', 2:'str', 3:'str', 4:'float', 5:'str', 6:'float', 7:'float'})\n",
        "        df.columns = ['ID', 'Date', 'TS', 'Hand', 'HoldTime', 'Direction', 'LatencyTime', 'FlightTime']\n",
        "    except ValueError:\n",
        "        try:\n",
        "            df = pd.read_csv(root + fn, delimiter='\\t', header=None, error_bad_lines=False,\n",
        "                             usecols=range(8), low_memory=False)\n",
        "            df.columns = ['ID', 'Date', 'TS', 'Hand', 'HoldTime', 'Direction', 'LatencyTime', 'FlightTime']\n",
        "            df = df[df['ID'].apply(lambda x: len(str(x)) == 10)\n",
        "                   & df['Date'].apply(lambda x: len(str(x)) == 6)\n",
        "                   & df['TS'].apply(lambda x: len(str(x)) == 12)\n",
        "                   & np.in1d(df['Hand'], [\"L\", \"R\", \"S\"])\n",
        "                   & df['HoldTime'].apply(lambda x: re.search(r\"[^\\d.]\", str(x)) is None)\n",
        "                   & np.in1d(df['Direction'], ['LL', 'LR', 'RL', 'RR', 'LS', 'SL', 'RS', 'SR', 'RR'])\n",
        "                   & df['LatencyTime'].apply(lambda x: re.search(r\"[^\\d.]\", str(x)) is None)\n",
        "                   & df['FlightTime'].apply(lambda x: re.search(r\"[^\\d.]\", str(x)) is None)]\n",
        "            df['HoldTime'] = df['HoldTime'].astype(np.float)\n",
        "            df['LatencyTime'] = df['HoldTime'].astype(np.float)\n",
        "            df['FlightTime'] = df['HoldTime'].astype(np.float)\n",
        "        except EmptyDataError:\n",
        "            df =  pd.DataFrame(columns = ['ID', 'Date', 'TS', 'Hand', 'HoldTime', 'Direction', 'LatencyTime', 'FlightTime'])\n",
        "    except EmptyDataError:\n",
        "        df =  pd.DataFrame(columns = ['ID', 'Date', 'TS', 'Hand', 'HoldTime', 'Direction', 'LatencyTime', 'FlightTime'])\n",
        "    return df"
      ],
      "outputs": [],
      "execution_count": null,
      "metadata": {
        "collapsed": true,
        "jupyter": {
          "source_hidden": false,
          "outputs_hidden": false
        },
        "nteract": {
          "transient": {
            "deleting": false
          }
        },
        "gather": {
          "logged": 1611264395390
        }
      }
    },
    {
      "cell_type": "code",
      "source": [
        "keys_list = list(map(partial(read_one_key_file, root=keys_root), keys_fn_list))"
      ],
      "outputs": [],
      "execution_count": null,
      "metadata": {
        "collapsed": true,
        "jupyter": {
          "source_hidden": false,
          "outputs_hidden": false
        },
        "nteract": {
          "transient": {
            "deleting": false
          }
        },
        "gather": {
          "logged": 1611264474714
        }
      }
    },
    {
      "cell_type": "code",
      "source": [
        "keys = pd.concat(keys_list, ignore_index=True, axis=0)"
      ],
      "outputs": [],
      "execution_count": null,
      "metadata": {
        "collapsed": true,
        "jupyter": {
          "source_hidden": false,
          "outputs_hidden": false
        },
        "nteract": {
          "transient": {
            "deleting": false
          }
        },
        "gather": {
          "logged": 1611264490182
        }
      }
    },
    {
      "cell_type": "markdown",
      "source": [
        "# Visualize data"
      ],
      "metadata": {
        "nteract": {
          "transient": {
            "deleting": false
          }
        }
      }
    },
    {
      "cell_type": "markdown",
      "source": [
        "## Visualize users"
      ],
      "metadata": {
        "nteract": {
          "transient": {
            "deleting": false
          }
        }
      }
    },
    {
      "cell_type": "code",
      "source": [
        "users.head()"
      ],
      "outputs": [],
      "execution_count": null,
      "metadata": {
        "collapsed": true,
        "jupyter": {
          "source_hidden": false,
          "outputs_hidden": false
        },
        "nteract": {
          "transient": {
            "deleting": false
          }
        },
        "gather": {
          "logged": 1611264713457
        }
      }
    },
    {
      "cell_type": "markdown",
      "source": [
        "## Visualize keys"
      ],
      "metadata": {
        "nteract": {
          "transient": {
            "deleting": false
          }
        }
      }
    },
    {
      "cell_type": "code",
      "source": [
        "keys.head()"
      ],
      "outputs": [],
      "execution_count": null,
      "metadata": {
        "collapsed": true,
        "jupyter": {
          "source_hidden": false,
          "outputs_hidden": false
        },
        "nteract": {
          "transient": {
            "deleting": false
          }
        },
        "gather": {
          "logged": 1611264717569
        }
      }
    },
    {
      "cell_type": "markdown",
      "source": [
        "# Filter data"
      ],
      "metadata": {
        "nteract": {
          "transient": {
            "deleting": false
          }
        }
      }
    },
    {
      "cell_type": "markdown",
      "source": [
        "## Filter users"
      ],
      "metadata": {
        "nteract": {
          "transient": {
            "deleting": false
          }
        }
      }
    },
    {
      "cell_type": "code",
      "source": [
        "user_w_sufficient_data = set((keys.groupby('ID').size() >= 2000).index)\n",
        "user_eligible = set(users[((users['Parkinsons']) & (users['Impact'] == 'Mild') \n",
        "                       | (~users['Parkinsons']))\n",
        "                      & (~users['Levadopa'])]['ID'])\n",
        "valid_users = user_w_sufficient_data.intersection(user_eligible)"
      ],
      "outputs": [],
      "execution_count": null,
      "metadata": {
        "collapsed": true,
        "jupyter": {
          "source_hidden": false,
          "outputs_hidden": false
        },
        "nteract": {
          "transient": {
            "deleting": false
          }
        },
        "gather": {
          "logged": 1611264722206
        }
      }
    },
    {
      "cell_type": "markdown",
      "source": [
        "## Filter data"
      ],
      "metadata": {
        "nteract": {
          "transient": {
            "deleting": false
          }
        }
      }
    },
    {
      "cell_type": "code",
      "source": [
        "valid_keys = keys[(keys['HoldTime'] > 0)\n",
        "                   & (keys['LatencyTime'] > 0)\n",
        "                   & (keys['HoldTime'] < 2000)\n",
        "                   & (keys['LatencyTime'] < 2000)\n",
        "                   & np.in1d(keys['ID'], list(valid_users))]"
      ],
      "outputs": [],
      "execution_count": null,
      "metadata": {
        "collapsed": true,
        "jupyter": {
          "source_hidden": false,
          "outputs_hidden": false
        },
        "nteract": {
          "transient": {
            "deleting": false
          }
        },
        "gather": {
          "logged": 1611264739485
        }
      }
    },
    {
      "cell_type": "markdown",
      "source": [
        "# Process data"
      ],
      "metadata": {
        "nteract": {
          "transient": {
            "deleting": false
          }
        }
      }
    },
    {
      "cell_type": "markdown",
      "source": [
        "## Process by hold time"
      ],
      "metadata": {
        "nteract": {
          "transient": {
            "deleting": false
          }
        }
      }
    },
    {
      "cell_type": "code",
      "source": [
        "hold_by_user = valid_keys[valid_keys['Hand'] != 'S'].groupby(['ID', 'Hand'])['HoldTime'].agg([np.mean, np.std, skew, kurtosis])"
      ],
      "outputs": [],
      "execution_count": null,
      "metadata": {
        "collapsed": true,
        "jupyter": {
          "source_hidden": false,
          "outputs_hidden": false
        },
        "nteract": {
          "transient": {
            "deleting": false
          }
        },
        "gather": {
          "logged": 1611264742922
        }
      }
    },
    {
      "cell_type": "code",
      "source": [
        "hold_by_user_flat = hold_by_user.unstack()\n",
        "hold_by_user_flat.columns = ['_'.join(col).strip() for col in hold_by_user_flat.columns.values]\n",
        "hold_by_user_flat['mean_hold_diff'] = hold_by_user_flat['mean_L'] - hold_by_user_flat['mean_R']"
      ],
      "outputs": [],
      "execution_count": null,
      "metadata": {
        "collapsed": true,
        "jupyter": {
          "source_hidden": false,
          "outputs_hidden": false
        },
        "nteract": {
          "transient": {
            "deleting": false
          }
        },
        "gather": {
          "logged": 1611264744789
        }
      }
    },
    {
      "cell_type": "markdown",
      "source": [
        "## Process by latency time"
      ],
      "metadata": {
        "nteract": {
          "transient": {
            "deleting": false
          }
        }
      }
    },
    {
      "cell_type": "code",
      "source": [
        "latency_by_user = valid_keys[np.in1d(valid_keys['Direction'], ['LL', 'LR', 'RL', 'RR'])].groupby(['ID', 'Direction'])['LatencyTime'].agg([np.mean, np.std, skew, kurtosis])"
      ],
      "outputs": [],
      "execution_count": null,
      "metadata": {
        "collapsed": true,
        "jupyter": {
          "source_hidden": false,
          "outputs_hidden": false
        },
        "nteract": {
          "transient": {
            "deleting": false
          }
        },
        "gather": {
          "logged": 1611264748239
        }
      }
    },
    {
      "cell_type": "code",
      "source": [
        "latency_by_user_flat = latency_by_user.unstack()\n",
        "latency_by_user_flat.columns = ['_'.join(col).strip() for col in latency_by_user_flat.columns.values]\n",
        "latency_by_user_flat['mean_LR_RL_diff'] = latency_by_user_flat['mean_LR'] - latency_by_user_flat['mean_RL']\n",
        "latency_by_user_flat['mean_LL_RR_diff'] = latency_by_user_flat['mean_LL'] - latency_by_user_flat['mean_RR']"
      ],
      "outputs": [],
      "execution_count": null,
      "metadata": {
        "collapsed": true,
        "jupyter": {
          "source_hidden": false,
          "outputs_hidden": false
        },
        "nteract": {
          "transient": {
            "deleting": false
          }
        },
        "gather": {
          "logged": 1611264749185
        }
      }
    },
    {
      "cell_type": "markdown",
      "source": [
        "## Gather full processed data "
      ],
      "metadata": {
        "nteract": {
          "transient": {
            "deleting": false
          }
        }
      }
    },
    {
      "cell_type": "code",
      "source": [
        "combined = pd.concat([hold_by_user_flat, latency_by_user_flat], axis=1)"
      ],
      "outputs": [],
      "execution_count": null,
      "metadata": {
        "collapsed": true,
        "jupyter": {
          "source_hidden": false,
          "outputs_hidden": false
        },
        "nteract": {
          "transient": {
            "deleting": false
          }
        },
        "gather": {
          "logged": 1611264751451
        }
      }
    },
    {
      "cell_type": "code",
      "source": [
        "full_set = pd.merge(combined.reset_index(), users[['ID', 'Parkinsons']], on='ID')\n",
        "full_set.set_index('ID', inplace=True)\n",
        "full_set.dropna(inplace=True)"
      ],
      "outputs": [],
      "execution_count": null,
      "metadata": {
        "collapsed": true,
        "jupyter": {
          "source_hidden": false,
          "outputs_hidden": false
        },
        "nteract": {
          "transient": {
            "deleting": false
          }
        },
        "gather": {
          "logged": 1611264752896
        }
      }
    },
    {
      "cell_type": "markdown",
      "source": [
        "# Export processed data"
      ],
      "metadata": {
        "nteract": {
          "transient": {
            "deleting": false
          }
        }
      }
    },
    {
      "cell_type": "code",
      "source": [
        "full_set.head()"
      ],
      "outputs": [],
      "execution_count": null,
      "metadata": {
        "collapsed": true,
        "jupyter": {
          "source_hidden": false,
          "outputs_hidden": false
        },
        "nteract": {
          "transient": {
            "deleting": false
          }
        },
        "gather": {
          "logged": 1611264754475
        }
      }
    },
    {
      "cell_type": "code",
      "source": [
        "full_set.to_csv('output.csv')"
      ],
      "outputs": [],
      "execution_count": null,
      "metadata": {
        "collapsed": true,
        "jupyter": {
          "source_hidden": false,
          "outputs_hidden": false
        },
        "nteract": {
          "transient": {
            "deleting": false
          }
        },
        "gather": {
          "logged": 1611264756431
        }
      }
    }
  ],
  "metadata": {
    "kernelspec": {
      "name": "python3-azureml",
      "language": "python",
      "display_name": "Python 3.6 - AzureML"
    },
    "language_info": {
      "name": "python",
      "version": "3.6.9",
      "mimetype": "text/x-python",
      "codemirror_mode": {
        "name": "ipython",
        "version": 3
      },
      "pygments_lexer": "ipython3",
      "nbconvert_exporter": "python",
      "file_extension": ".py"
    },
    "nteract": {
      "version": "nteract-front-end@1.0.0"
    },
    "kernel_info": {
      "name": "python3-azureml"
    }
  },
  "nbformat": 4,
  "nbformat_minor": 2
}